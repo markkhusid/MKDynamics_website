{
 "cells": [
  {
   "cell_type": "markdown",
   "metadata": {},
   "source": [
    "## The program contains a string variable called p that holds the password \"PentesterAcademyPass\". It then does a string compare of p with the first argument to the executable. If the first argument is the same string as p, the strcmp function returns a zero. The enveloping if statement checks for this condition and if true, executes the statement: "
   ]
  },
  {
   "cell_type": "markdown",
   "metadata": {},
   "source": [
    "```C\n",
    "printf(\"\\nWelcome to the SLAE 64-bit course! Please proceed to the next video!\\n\");\n",
    "```"
   ]
  },
  {
   "cell_type": "markdown",
   "metadata": {},
   "source": [
    "## One way to crack this simple password checking routine is to run this program in GDB and trick the program into thinking that a randomly entered command line argument is the password. "
   ]
  },
  {
   "cell_type": "markdown",
   "metadata": {},
   "source": [
    "## To do this, we need to first compile the program into an executable. The program is compiled with: "
   ]
  },
  {
   "cell_type": "markdown",
   "metadata": {},
   "source": [
    " ```Bash\n",
    " $ gcc -ggdb3 gdb_test.c -o gdb_test \n",
    " ```"
   ]
  },
  {
   "cell_type": "markdown",
   "metadata": {},
   "source": [
    "## In the next section, we run the program in GDB + GEF."
   ]
  }
 ],
 "metadata": {
  "kernelspec": {
   "display_name": "Python 3",
   "language": "python",
   "name": "python3"
  },
  "language_info": {
   "codemirror_mode": {
    "name": "ipython",
    "version": 3
   },
   "file_extension": ".py",
   "mimetype": "text/x-python",
   "name": "python",
   "nbconvert_exporter": "python",
   "pygments_lexer": "ipython3",
   "version": "3.8.5"
  }
 },
 "nbformat": 4,
 "nbformat_minor": 4
}
