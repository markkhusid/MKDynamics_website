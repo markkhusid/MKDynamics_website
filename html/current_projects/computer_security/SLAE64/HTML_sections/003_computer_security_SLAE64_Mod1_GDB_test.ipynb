{
 "cells": [
  {
   "cell_type": "markdown",
   "metadata": {},
   "source": [
    "# Introduction"
   ]
  },
  {
   "cell_type": "markdown",
   "metadata": {},
   "source": [
    "In this section we will be following along with and completing course material from the Pentester Academy's SecurityTube Linux Assembly language Expert 64 Bit course. The first assignment is called gdbtest. The goal is to use GDB to modify the contents of the CPU registers so that the password checking program will allow the student to view the message: Welcome to the SLAE 64-bit course! Please proceed to the next video! Otherwise, the program will display: It's time to review those GDB videos again! "
   ]
  },
  {
   "cell_type": "markdown",
   "metadata": {},
   "source": [
    "Project code is contained in my <a href=\"https://github.com/markkhusid/SLAE64\">github</a>. "
   ]
  },
  {
   "cell_type": "markdown",
   "metadata": {},
   "source": [
    "## The program <i>gdb_test.c</i>"
   ]
  },
  {
   "cell_type": "markdown",
   "metadata": {},
   "source": [
    "The screenshot below displays the contents of the program <i>gdb_test.c</i>.  "
   ]
  },
  {
   "cell_type": "markdown",
   "metadata": {},
   "source": [
    "<figure>\n",
    "    <div class=\"img\">\n",
    "        <img \n",
    "            src=\"../../images/SLAE64/Module_1/003_GDB_Test/gdb_test.c.png\"\n",
    "            width=\"1250\"\n",
    "            height=\"900\"\n",
    "            title=\"\"\n",
    "        >\n",
    "    </div> <!-- .img -->\n",
    " </figure>    \n",
    "\n",
    "<div class=\"desc\">\n",
    "    <p>\n",
    "        The test program <i>gdb_test.c</i>\n",
    "    <p>\n",
    "</div> <!-- .desc -->"
   ]
  },
  {
   "cell_type": "markdown",
   "metadata": {},
   "source": [
    "The program contains a string variable called p that holds the password \"PentesterAcademyPass\". It then does a string compare of p with the first argument to the executable. If the first argument is the same string as p, the strcmp function returns a zero. The enveloping if statement checks for this condition and if true, executes the statement: "
   ]
  },
  {
   "cell_type": "markdown",
   "metadata": {},
   "source": [
    "```C\n",
    "printf(\"\\nWelcome to the SLAE 64-bit course! Please proceed to the next video!\\n\");\n",
    "```"
   ]
  },
  {
   "cell_type": "markdown",
   "metadata": {},
   "source": [
    "One way to crack this simple password checking routine is to run this program in GDB and trick the program into thinking that a randomly entered command line argument is the password. "
   ]
  },
  {
   "cell_type": "markdown",
   "metadata": {},
   "source": [
    "To do this, we need to first compile the program into an executable. The program is compiled with: "
   ]
  },
  {
   "cell_type": "markdown",
   "metadata": {},
   "source": [
    " ```Bash\n",
    " $ gcc -ggdb3 gdb_test.c -o gdb_test \n",
    " ```"
   ]
  },
  {
   "cell_type": "markdown",
   "metadata": {},
   "source": [
    "In the next section, we run the program in GDB + GEF."
   ]
  },
  {
   "cell_type": "markdown",
   "metadata": {},
   "source": [
    "## Running <i>gdbtest</i> in GDB + GEF"
   ]
  },
  {
   "cell_type": "markdown",
   "metadata": {},
   "source": [
    "The screenshot below shows the executable <i>gdbtest</i> being run in GDB + GEF."
   ]
  },
  {
   "cell_type": "markdown",
   "metadata": {},
   "source": [
    "<figure>\n",
    "    <div class=\"img\">\n",
    "        <img \n",
    "            src=\"../../images/SLAE64/Module_1/003_GDB_Test/running_gdb_test_in_GEF.jpg\"\n",
    "            width=\"1920\"\n",
    "            height=\"1200\"\n",
    "            title=\"\"\n",
    "        >\n",
    "    </div> <!-- .img -->\n",
    "    <div class=\"desc\">\n",
    "        <p>\n",
    "            Running the executable <i>gdbtest</i> in GDB + GEF\n",
    "        <p>\n",
    "    </div> <!-- .desc -->\n",
    "</figure>"
   ]
  }
 ],
 "metadata": {
  "kernelspec": {
   "display_name": "Python 3",
   "language": "python",
   "name": "python3"
  },
  "language_info": {
   "codemirror_mode": {
    "name": "ipython",
    "version": 3
   },
   "file_extension": ".py",
   "mimetype": "text/x-python",
   "name": "python",
   "nbconvert_exporter": "python",
   "pygments_lexer": "ipython3",
   "version": "3.8.5"
  }
 },
 "nbformat": 4,
 "nbformat_minor": 4
}
