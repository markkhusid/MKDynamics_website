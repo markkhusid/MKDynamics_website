{
 "cells": [
  {
   "cell_type": "markdown",
   "metadata": {},
   "source": [
    "# <span style=\"font-family:Papyrus; font-size:2em;\">Module 1 Section 3 - GDB Test</span>\n",
    "### <span style=\"font-family:Papyrus; font-size:1em;\">Cracking a Password Checking Program with GDB</span>"
   ]
  },
  {
   "cell_type": "markdown",
   "metadata": {},
   "source": [
    "## <span style=\"font-family:Papyrus; font-size:2em;\">Introduction</span>"
   ]
  },
  {
   "cell_type": "markdown",
   "metadata": {},
   "source": [
    "<span style=\"font-family:Papyrus; font-size:1.25em;\">In this section we will be following along with and completing course material from the Pentester Academy's SecurityTube Linux Assembly language Expert 64 Bit course. The first assignment is called gdbtest. The goal is to use GDB to modify the contents of the CPU registers so that the password checking program will allow the student to view the message:<span>\n",
    "    \n",
    "><span style=\"font-family:Courier; font-size:1.25em;\">Welcome to the SLAE 64-bit course! Please proceed to the next video!</span>\n",
    "    \n",
    "<span style=\"font-family:Papyrus; font-size:1.25em;\">Otherwise, the program will display:</span>\n",
    "    \n",
    "><span style=\"font-family:Courier; font-size:1.25em;\">It's time to review those GDB videos again!</span>"
   ]
  },
  {
   "cell_type": "markdown",
   "metadata": {},
   "source": [
    "<span style=\"font-family:Papyrus; font-size:1.25em;\">Project code is contained in my <a href=\"https://github.com/markkhusid/SLAE64\">github</a>.</span>"
   ]
  },
  {
   "cell_type": "markdown",
   "metadata": {},
   "source": [
    "## <span style=\"font-family:Papyrus; font-size:1.75em;\">The Program <i>gdb_test.c</i></span>"
   ]
  },
  {
   "cell_type": "markdown",
   "metadata": {},
   "source": [
    "<span style=\"font-family:Papyrus; font-size:1.25em;\">The screenshot below displays the contents of the program <i>gdb_test.c</i></span>"
   ]
  },
  {
   "cell_type": "markdown",
   "metadata": {},
   "source": [
    "<figure>\n",
    "    <div class=\"img\">\n",
    "        <img \n",
    "            src=\"../../images/SLAE64/Module_1/003_GDB_Test/gdb_test.c.png\"\n",
    "            width=\"1250\"\n",
    "            height=\"900\"\n",
    "            title=\"\"\n",
    "        >\n",
    "    </div> <!-- .img -->\n",
    " </figure>    \n",
    "\n",
    "<div class=\"desc\">\n",
    "    <p>\n",
    "        <span style=\"font-family:Papyrus; font-size:1em;\">The program <i>gdb_test.c</i></span>\n",
    "    <p>\n",
    "</div> <!-- .desc -->"
   ]
  },
  {
   "cell_type": "markdown",
   "metadata": {},
   "source": [
    "<span style=\"font-family:Papyrus; font-size:1.25em;\">The program contains a string variable called <i>p</i> that holds the password \"PentesterAcademyPass\". It then does a string compare of the variable <i>p</i> with the first argument passed to the executable from the command line. If the first argument is the same string as <i>p</i>, the strcmp function returns a zero. The enveloping if statement checks for this condition and if true, executes the statement:</span>"
   ]
  },
  {
   "cell_type": "markdown",
   "metadata": {},
   "source": [
    "```C\n",
    "printf(\"\\nWelcome to the SLAE 64-bit course! Please proceed to the next video!\\n\");\n",
    "```"
   ]
  },
  {
   "cell_type": "markdown",
   "metadata": {},
   "source": [
    "  "
   ]
  },
  {
   "cell_type": "markdown",
   "metadata": {},
   "source": [
    "<span style=\"font-family:Papyrus; font-size:1.25em;\">One way to crack this simple password checking routine is to run this program in GDB and trick the program into thinking that any randomly entered command line argument is the password.  This is done by setting the register that contains the randomly entered password to the hardcoded password \"PentesterAcademyPass\" from within GDB.  The executable then continues running thinking that the correct password was entered.<span>\n",
    "\n",
    "<span style=\"font-family:Papyrus; font-size:1.25em;\">We will now demonstrate the entire process.</span>"
   ]
  },
  {
   "cell_type": "markdown",
   "metadata": {},
   "source": [
    "<span style=\"font-family:Papyrus; font-size:1.25em;\">To do this, we need to first compile the program into an executable. The program is compiled with:</span>"
   ]
  },
  {
   "cell_type": "markdown",
   "metadata": {},
   "source": [
    " ```Bash\n",
    " $ gcc -ggdb3 gdb_test.c -o gdb_test \n",
    " ```"
   ]
  },
  {
   "cell_type": "markdown",
   "metadata": {},
   "source": [
    "  "
   ]
  },
  {
   "cell_type": "markdown",
   "metadata": {},
   "source": [
    "<span style=\"font-family:Papyrus; font-size:1.25em;\">This produces an executable called <i>gdb_test</i>.</span>"
   ]
  },
  {
   "cell_type": "markdown",
   "metadata": {},
   "source": [
    "<span style=\"font-family:Papyrus; font-size:1.25em;\">In the next section, we run the executable <i>gdbtest</i> in GDB + GEF.</span>"
   ]
  },
  {
   "cell_type": "markdown",
   "metadata": {},
   "source": [
    "## <span style=\"font-family:Papyrus; font-size:1.75em;\">Running <i>gdbtest</i> in GDB + GEF</span>"
   ]
  },
  {
   "cell_type": "markdown",
   "metadata": {},
   "source": [
    "<span style=\"font-family:Papyrus; font-size:1.25em;\">The screenshot below shows the executable <i>gdbtest</i> being run in GDB + GEF.</span>"
   ]
  },
  {
   "cell_type": "markdown",
   "metadata": {},
   "source": [
    "<figure>\n",
    "    <div class=\"img\">\n",
    "        <img \n",
    "            src=\"../../images/SLAE64/Module_1/003_GDB_Test/running_gdb_test_in_GEF.jpg\"\n",
    "            width=\"1920\"\n",
    "            height=\"1800\"\n",
    "            title=\"\"\n",
    "        >\n",
    "    </div> <!-- .img -->\n",
    "    <div class=\"desc\">\n",
    "        <p>\n",
    "            Running the executable <i>gdbtest</i> in GDB + GEF\n",
    "        <p>\n",
    "    </div> <!-- .desc -->\n",
    "</figure>"
   ]
  },
  {
   "cell_type": "markdown",
   "metadata": {},
   "source": [
    "## <span style=\"font-family:Papyrus; font-size:1.75em;\">Examining the Disassembly of Main in Detail</span>"
   ]
  },
  {
   "cell_type": "markdown",
   "metadata": {},
   "source": [
    "<span style=\"font-family:Papyrus; font-size:1.25em;\">In this section, we will examine the disassembly of the function <i>main</i> in more detail.  We will use the ATT format to become accustomed to it, but generally, the Intel format seems to be more prevalent.  In the screenshot below, we show the disassembly of the function <i>main</i> in both formats.</span>"
   ]
  },
  {
   "cell_type": "markdown",
   "metadata": {},
   "source": [
    "<figure>\n",
    "    <div class=\"img\">\n",
    "        <img \n",
    "        src=\"../../images/SLAE64/Module_1/003_GDB_Test/disassembly_of_main.jpg\"\n",
    "        width=\"1920\"\n",
    "        height=\"1800\"\n",
    "        title=\"\"\n",
    "        >\n",
    "    </div> <!-- .img -->\n",
    "    <div class=\"desc\">\n",
    "        <p>\n",
    "            Disassembly of the function <i>main</i> in both Intel and ATT formats.\n",
    "        <p>\n",
    "    </div> <!-- .desc -->\n",
    "</figure>"
   ]
  },
  {
   "cell_type": "markdown",
   "metadata": {},
   "source": [
    "<span style=\"font-family:Papyrus; font-size:1.25em;\">In the next section, we will zoom in to the function <i>main</i> shown in ATT format for clarity.</span>"
   ]
  },
  {
   "cell_type": "markdown",
   "metadata": {},
   "source": [
    "## <span style=\"font-family:Papyrus; font-size:1.75em;\">Examining the Disassembly of Main in ATT Format in Detail</span>"
   ]
  },
  {
   "cell_type": "markdown",
   "metadata": {},
   "source": [
    "<span style=\"font-family:Papyrus; font-size:1.25em;\">In the screenshot below, we can see the disassembly of the function <i>main</i> in ATT format and zoomed in for better viewing.  When viewing the assembly instructions, one instruction stands out as particularly interesting.  It is the string compare instruction, at <i>main</i> + 44.  If we could alter the return value of this function to satisfy the test that indeed a correct password was entered, then we can crack this password checking program.</span>"
   ]
  },
  {
   "cell_type": "markdown",
   "metadata": {},
   "source": [
    "<figure>\n",
    "    <div class=\"img\">\n",
    "        <img \n",
    "        src=\"../../images/SLAE64/Module_1/003_GDB_Test/disassembly_of_main_ATT_zoomed.jpg\"\n",
    "        width=\"1920\"\n",
    "        height=\"1800\"\n",
    "        title=\"\"\n",
    "        >\n",
    "    </div> <!-- .img -->\n",
    "    <div class=\"desc\">\n",
    "        <p>\n",
    "            Disassembly of the function <i>main</i> in the ATT format and zoomed in.\n",
    "        <p>\n",
    "    </div> <!-- .desc -->\n",
    "</figure>"
   ]
  }
 ],
 "metadata": {
  "kernelspec": {
   "display_name": "Python 3",
   "language": "python",
   "name": "python3"
  },
  "language_info": {
   "codemirror_mode": {
    "name": "ipython",
    "version": 3
   },
   "file_extension": ".py",
   "mimetype": "text/x-python",
   "name": "python",
   "nbconvert_exporter": "python",
   "pygments_lexer": "ipython3",
   "version": "3.8.5"
  }
 },
 "nbformat": 4,
 "nbformat_minor": 4
}
