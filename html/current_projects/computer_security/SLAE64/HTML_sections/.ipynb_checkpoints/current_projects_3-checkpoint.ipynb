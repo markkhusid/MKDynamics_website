{
 "cells": [
  {
   "cell_type": "markdown",
   "metadata": {},
   "source": [
    "## Looking at the screenshot above, we can see that main's stackframe has been set up, and we are at the first assembly instruction in the C function main. We will now examine the assembly instructions more closely and step through the instructions to find where the test for a correct password is performed. At that point, we can modify the results of the test within GDB to trick the program and print the desired message. "
   ]
  }
 ],
 "metadata": {
  "kernelspec": {
   "display_name": "Python 3",
   "language": "python",
   "name": "python3"
  },
  "language_info": {
   "codemirror_mode": {
    "name": "ipython",
    "version": 3
   },
   "file_extension": ".py",
   "mimetype": "text/x-python",
   "name": "python",
   "nbconvert_exporter": "python",
   "pygments_lexer": "ipython3",
   "version": "3.8.5"
  }
 },
 "nbformat": 4,
 "nbformat_minor": 4
}
